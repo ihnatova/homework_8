{
 "cells": [
  {
   "cell_type": "code",
   "execution_count": 63,
   "metadata": {},
   "outputs": [
    {
     "name": "stdout",
     "output_type": "stream",
     "text": [
      "{1: 'Hat', 2: None, 3: None, 4: 'Hat', 5: None, 6: None, 7: None, 8: None, 9: 'Hat', 10: None, 11: None, 12: None, 13: None, 14: None, 15: None, 16: 'Hat', 17: None, 18: None, 19: None, 20: None, 21: None, 22: None, 23: None, 24: None, 25: 'Hat', 26: None, 27: None, 28: None, 29: None, 30: None, 31: None, 32: None, 33: None, 34: None, 35: None, 36: 'Hat', 37: None, 38: None, 39: None, 40: None, 41: None, 42: None, 43: None, 44: None, 45: None, 46: None, 47: None, 48: None, 49: 'Hat', 50: None, 51: None, 52: None, 53: None, 54: None, 55: None, 56: None, 57: None, 58: None, 59: None, 60: None, 61: None, 62: None, 63: None, 64: 'Hat', 65: None, 66: None, 67: None, 68: None, 69: None, 70: None, 71: None, 72: None, 73: None, 74: None, 75: None, 76: None, 77: None, 78: None, 79: None, 80: None, 81: 'Hat', 82: None, 83: None, 84: None, 85: None, 86: None, 87: None, 88: None, 89: None, 90: None, 91: None, 92: None, 93: None, 94: None, 95: None, 96: None, 97: None, 98: None, 99: None, 100: 'Hat'}\n",
      "Cats with hats: [1, 4, 9, 16, 25, 36, 49, 64, 81, 100]\n"
     ]
    }
   ],
   "source": [
    "#You have 100 cats\n",
    "\n",
    "def cat_hat(round_num: int, cats_num: int):\n",
    "    keylist = []\n",
    "    cats_with_hats = []\n",
    "    for i in range(cats_num):\n",
    "        keylist.append(i+1)\n",
    "    cats_dict = {key: None for key in keylist}\n",
    "    for i in range(1, round_num + 1):\n",
    "        for j in range(1, cats_num + 1):\n",
    "            if (j % i) == 0:\n",
    "                if cats_dict[j] == \"Hat\":\n",
    "                    cats_dict[j] = None\n",
    "                else:\n",
    "                    cats_dict[j] = \"Hat\"\n",
    "    print(cats_dict)\n",
    "    for key in cats_dict:           \n",
    "        if cats_dict[key] == \"Hat\":\n",
    "            cats_with_hats.append(key)\n",
    "    return cats_with_hats\n",
    "\n",
    "print(f\"Cats with hats: {cat_hat(100, 100)}\")\n"
   ]
  }
 ],
 "metadata": {
  "kernelspec": {
   "display_name": "base",
   "language": "python",
   "name": "python3"
  },
  "language_info": {
   "codemirror_mode": {
    "name": "ipython",
    "version": 3
   },
   "file_extension": ".py",
   "mimetype": "text/x-python",
   "name": "python",
   "nbconvert_exporter": "python",
   "pygments_lexer": "ipython3",
   "version": "3.11.5"
  }
 },
 "nbformat": 4,
 "nbformat_minor": 2
}
